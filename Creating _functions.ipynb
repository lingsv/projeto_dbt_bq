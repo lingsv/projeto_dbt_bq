{
 "cells": [
  {
   "cell_type": "markdown",
   "id": "451fff15-a307-4b7b-9c6a-ed46332e4bc6",
   "metadata": {},
   "source": [
    "## Imports"
   ]
  },
  {
   "cell_type": "code",
   "execution_count": 4,
   "id": "dc7b4366-5f14-400a-ad6d-408f75ae0c6d",
   "metadata": {},
   "outputs": [],
   "source": [
    "import pandas as pd\n",
    "import requests"
   ]
  },
  {
   "cell_type": "markdown",
   "id": "c44699b1-b62e-4fac-ba0b-fc082c8cb9cc",
   "metadata": {},
   "source": [
    "## Creates the request"
   ]
  },
  {
   "cell_type": "code",
   "execution_count": null,
   "id": "29304fa3-d3fd-40d6-bf20-5b8ea2029195",
   "metadata": {},
   "outputs": [],
   "source": [
    "year = 2020"
   ]
  },
  {
   "cell_type": "code",
   "execution_count": null,
   "id": "e8853404-35fb-4639-8502-35c072b69aeb",
   "metadata": {},
   "outputs": [],
   "source": [
    "url = f'https://api.tfl.gov.uk/AccidentStats/{year}'"
   ]
  }
 ],
 "metadata": {
  "kernelspec": {
   "display_name": "Python 3 (ipykernel)",
   "language": "python",
   "name": "python3"
  },
  "language_info": {
   "codemirror_mode": {
    "name": "ipython",
    "version": 3
   },
   "file_extension": ".py",
   "mimetype": "text/x-python",
   "name": "python",
   "nbconvert_exporter": "python",
   "pygments_lexer": "ipython3",
   "version": "3.9.18"
  }
 },
 "nbformat": 4,
 "nbformat_minor": 5
}
